{
 "cells": [
  {
   "cell_type": "code",
   "execution_count": 20,
   "metadata": {},
   "outputs": [
    {
     "name": "stdout",
     "output_type": "stream",
     "text": [
      "The autoreload extension is already loaded. To reload it, use:\n",
      "  %reload_ext autoreload\n"
     ]
    }
   ],
   "source": [
    "%load_ext autoreload\n",
    "%autoreload 2"
   ]
  },
  {
   "cell_type": "code",
   "execution_count": 21,
   "metadata": {},
   "outputs": [],
   "source": [
    "from book_viewer_lib import *"
   ]
  },
  {
   "cell_type": "code",
   "execution_count": 22,
   "metadata": {},
   "outputs": [],
   "source": [
    "with open('data/mybooks.txt') as f:\n",
    "    book_titles = f.readlines()\n",
    "book_titles = [x.strip() for x in book_titles][1:]\n",
    "book_titles = book_titles[:50]"
   ]
  },
  {
   "cell_type": "code",
   "execution_count": 23,
   "metadata": {},
   "outputs": [],
   "source": [
    "title_embeddings = get_embeddings(book_titles)"
   ]
  },
  {
   "cell_type": "code",
   "execution_count": 24,
   "metadata": {},
   "outputs": [
    {
     "name": "stdout",
     "output_type": "stream",
     "text": [
      "Original: Age of Ambition: Chasing Fortune, Truth, and Faith in the New China\n",
      "==========\n",
      "7 Out of Mao's Shadow: The Struggle for the Soul of a New China 35.62971878051758\n",
      "27 More Money Than God: Hedge Funds and the Making of a New Elite 19.123451232910156\n",
      "19 A Thousand Plateaus: Capitalism and Schizophrenia 17.32500457763672\n",
      "9 Mindstorms: Children, Computers, And Powerful Ideas 16.022314071655273\n",
      "45 The Emperor's New Mind 15.9722261428833\n"
     ]
    }
   ],
   "source": [
    "# Change index to select a different book\n",
    "book_index = 10\n",
    "\n",
    "closest_books = get_closest_books(\n",
    "    book_titles, title_embeddings, book_index, num_closest_books=5)\n",
    "\n",
    "print('Original:', book_titles[book_index])\n",
    "print('==========')\n",
    "for index, book, similarity in closest_books:\n",
    "    print(index, book, similarity)"
   ]
  },
  {
   "cell_type": "code",
   "execution_count": 26,
   "metadata": {},
   "outputs": [],
   "source": [
    "edges = []\n",
    "for book_index in range(len(book_titles)):\n",
    "    closest_books = get_closest_books(\n",
    "        book_titles, title_embeddings, book_index, num_closest_books=5)\n",
    "    edges.extend([(book_index, x, similarity) for x, y, similarity in closest_books])"
   ]
  },
  {
   "cell_type": "code",
   "execution_count": 29,
   "metadata": {},
   "outputs": [],
   "source": [
    "# Write nodes to a file\n",
    "with open('data/nodes.txt', 'w') as f:\n",
    "    for line in book_titles:\n",
    "        f.write(f\"{line}\\n\")\n",
    "\n",
    "# Write edges to a file\n",
    "with open('data/edges.csv', 'w', newline='') as file:\n",
    "    writer = csv.writer(file)\n",
    "    writer.writerow(['x', 'y', 'similarity'])  # Write the header\n",
    "    writer.writerows(edges)"
   ]
  },
  {
   "cell_type": "code",
   "execution_count": null,
   "metadata": {},
   "outputs": [],
   "source": []
  }
 ],
 "metadata": {
  "kernelspec": {
   "display_name": "book_viewer",
   "language": "python",
   "name": "python3"
  },
  "language_info": {
   "codemirror_mode": {
    "name": "ipython",
    "version": 3
   },
   "file_extension": ".py",
   "mimetype": "text/x-python",
   "name": "python",
   "nbconvert_exporter": "python",
   "pygments_lexer": "ipython3",
   "version": "3.12.4"
  }
 },
 "nbformat": 4,
 "nbformat_minor": 2
}
