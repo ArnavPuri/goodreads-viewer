{
 "cells": [
  {
   "cell_type": "code",
   "execution_count": 1,
   "metadata": {},
   "outputs": [],
   "source": [
    "%load_ext autoreload\n",
    "%autoreload 2"
   ]
  },
  {
   "cell_type": "code",
   "execution_count": 2,
   "metadata": {},
   "outputs": [
    {
     "name": "stderr",
     "output_type": "stream",
     "text": [
      "/opt/miniconda3/envs/goodreads-py12/lib/python3.12/site-packages/sentence_transformers/cross_encoder/CrossEncoder.py:11: TqdmExperimentalWarning: Using `tqdm.autonotebook.tqdm` in notebook mode. Use `tqdm.tqdm` instead to force console mode (e.g. in jupyter console)\n",
      "  from tqdm.autonotebook import tqdm, trange\n"
     ]
    }
   ],
   "source": [
    "from book_viewer_lib import *"
   ]
  },
  {
   "cell_type": "code",
   "execution_count": 3,
   "metadata": {},
   "outputs": [],
   "source": [
    "with open('mybooks.txt') as f:\n",
    "    book_titles = f.readlines()\n",
    "book_titles = [x.strip() for x in book_titles]"
   ]
  },
  {
   "cell_type": "code",
   "execution_count": 4,
   "metadata": {},
   "outputs": [],
   "source": [
    "title_embeddings = get_embeddings(book_titles)"
   ]
  },
  {
   "cell_type": "code",
   "execution_count": 5,
   "metadata": {},
   "outputs": [
    {
     "name": "stdout",
     "output_type": "stream",
     "text": [
      "Original: Shape: The Hidden Geometry of Information, Biology, Strategy, Democracy, and Everything Else\n",
      "225 The Undercover Economist\n",
      "392 The Doors of Perception\n"
     ]
    }
   ],
   "source": [
    "# Change index to select a different book\n",
    "index = 10\n",
    "\n",
    "closest_books = get_closest_books(\n",
    "    book_titles, title_embeddings, index)\n",
    "\n",
    "print('Original:', book_titles[index])\n",
    "print('==========')\n",
    "for index, book in closest_books:\n",
    "    print(index, book)"
   ]
  }
 ],
 "metadata": {
  "kernelspec": {
   "display_name": "book_viewer",
   "language": "python",
   "name": "python3"
  },
  "language_info": {
   "codemirror_mode": {
    "name": "ipython",
    "version": 3
   },
   "file_extension": ".py",
   "mimetype": "text/x-python",
   "name": "python",
   "nbconvert_exporter": "python",
   "pygments_lexer": "ipython3",
   "version": "3.12.4"
  }
 },
 "nbformat": 4,
 "nbformat_minor": 2
}
