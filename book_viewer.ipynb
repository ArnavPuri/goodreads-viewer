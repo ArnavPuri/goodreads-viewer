{
 "cells": [
  {
   "cell_type": "code",
   "execution_count": 13,
   "metadata": {},
   "outputs": [
    {
     "name": "stdout",
     "output_type": "stream",
     "text": [
      "The autoreload extension is already loaded. To reload it, use:\n",
      "  %reload_ext autoreload\n"
     ]
    }
   ],
   "source": [
    "%load_ext autoreload\n",
    "%autoreload 2"
   ]
  },
  {
   "cell_type": "code",
   "execution_count": 14,
   "metadata": {},
   "outputs": [],
   "source": [
    "from book_viewer_lib import *"
   ]
  },
  {
   "cell_type": "code",
   "execution_count": 15,
   "metadata": {},
   "outputs": [],
   "source": [
    "with open('data/mybooks.txt') as f:\n",
    "    book_titles = f.readlines()\n",
    "book_titles = [x.strip() for x in book_titles][1:]"
   ]
  },
  {
   "cell_type": "code",
   "execution_count": 16,
   "metadata": {},
   "outputs": [],
   "source": [
    "title_embeddings = get_embeddings(book_titles)"
   ]
  },
  {
   "cell_type": "code",
   "execution_count": 17,
   "metadata": {},
   "outputs": [
    {
     "name": "stdout",
     "output_type": "stream",
     "text": [
      "Original: Mindstorms: Children, Computers, And Powerful Ideas\n",
      "==========\n",
      "162 Hackers: Heroes of the Computer Revolution\n",
      "350 A Thousand Brains: A New Theory of Intelligence\n",
      "151 The Educated Mind: How Cognitive Tools Shape Our Understanding\n",
      "106 The Innovators: How a Group of Hackers, Geniuses and Geeks Created the Digital Revolution\n",
      "357 Thinking In Systems: A Primer\n"
     ]
    }
   ],
   "source": [
    "# Change index to select a different book\n",
    "book_index = 10\n",
    "\n",
    "closest_books = get_closest_books(\n",
    "    book_titles, title_embeddings, book_index, num_closest_books=5)\n",
    "\n",
    "print('Original:', book_titles[book_index])\n",
    "print('==========')\n",
    "for index, book in closest_books:\n",
    "    print(index, book)"
   ]
  },
  {
   "cell_type": "code",
   "execution_count": 18,
   "metadata": {},
   "outputs": [],
   "source": [
    "edges = []\n",
    "for book_index in range(len(book_titles)):\n",
    "    closest_books = get_closest_books(\n",
    "        book_titles, title_embeddings, book_index, num_closest_books=5)\n",
    "    edges.extend([(book_index, x) for x, y in closest_books])"
   ]
  },
  {
   "cell_type": "code",
   "execution_count": 19,
   "metadata": {},
   "outputs": [],
   "source": [
    "# Write edges to a file\n",
    "with open('data/edges.csv', 'w', newline='') as file:\n",
    "    writer = csv.writer(file)\n",
    "    writer.writerow(['x', 'y'])  # Write the header\n",
    "    writer.writerows(edges)"
   ]
  },
  {
   "cell_type": "code",
   "execution_count": null,
   "metadata": {},
   "outputs": [],
   "source": []
  }
 ],
 "metadata": {
  "kernelspec": {
   "display_name": "book_viewer",
   "language": "python",
   "name": "python3"
  },
  "language_info": {
   "codemirror_mode": {
    "name": "ipython",
    "version": 3
   },
   "file_extension": ".py",
   "mimetype": "text/x-python",
   "name": "python",
   "nbconvert_exporter": "python",
   "pygments_lexer": "ipython3",
   "version": "3.12.4"
  }
 },
 "nbformat": 4,
 "nbformat_minor": 2
}
