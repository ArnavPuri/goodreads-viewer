{
 "cells": [
  {
   "cell_type": "code",
   "execution_count": 27,
   "metadata": {},
   "outputs": [
    {
     "name": "stdout",
     "output_type": "stream",
     "text": [
      "The autoreload extension is already loaded. To reload it, use:\n",
      "  %reload_ext autoreload\n"
     ]
    }
   ],
   "source": [
    "%load_ext autoreload\n",
    "%autoreload 2"
   ]
  },
  {
   "cell_type": "code",
   "execution_count": 28,
   "metadata": {},
   "outputs": [],
   "source": [
    "import book_viewer_lib"
   ]
  },
  {
   "cell_type": "code",
   "execution_count": 29,
   "metadata": {},
   "outputs": [],
   "source": [
    "books_df = book_viewer_lib.load_goodreads_data('goodreads_library_export.csv')\n",
    "titles, embeddings = book_viewer_lib.get_titles_and_embeddings(books_df)"
   ]
  },
  {
   "cell_type": "code",
   "execution_count": 30,
   "metadata": {},
   "outputs": [
    {
     "name": "stdout",
     "output_type": "stream",
     "text": [
      "Original book: Something Incredibly Wonderful Happens: Frank Oppenheimer and the world he made up\n",
      "=========\n",
      "35 American Prometheus: The Triumph and Tragedy of J. Robert Oppenheimer\n",
      "1 The Making of the Atomic Bomb\n",
      "61 The Rise and Fall of the Third Reich: A History of Nazi Germany\n",
      "315 Leonardo da Vinci\n",
      "240 Great Founder Theory\n",
      "359 Boom and Bust: A Global History of Financial Bubbles\n",
      "291 Start-up Nation: The Story of Israel's Economic Miracle\n",
      "160 The Art of War\n",
      "15 Nixon Agonistes: The Crisis of the Self-Made Man\n"
     ]
    }
   ],
   "source": [
    "book_viewer_lib.get_closest_books(titles, embeddings, 5)"
   ]
  },
  {
   "cell_type": "code",
   "execution_count": 31,
   "metadata": {},
   "outputs": [
    {
     "name": "stdout",
     "output_type": "stream",
     "text": [
      "Original book: Attached: The New Science of Adult Attachment and How It Can Help You Find—and Keep—Love\n",
      "=========\n",
      "424 Beloved\n",
      "138 How to Be an Adult in Relationships: The Five Keys to Mindful Loving\n",
      "103 Adult Children of Emotionally Immature Parents: How to Heal from Distant, Rejecting, or Self-Involved Parents\n",
      "212 How Trust Works: The Science of How Relationships Are Built, Broken, and Repaired\n",
      "399 The Body: A Guide for Occupants\n",
      "346 Reinforcement Learning: An Introduction\n",
      "309 Stumbling on Happiness\n",
      "292 Being and Time\n",
      "199 Meditations\n"
     ]
    }
   ],
   "source": [
    "book_viewer_lib.get_closest_books(titles, embeddings, 0)"
   ]
  },
  {
   "cell_type": "code",
   "execution_count": 65,
   "metadata": {},
   "outputs": [
    {
     "name": "stdout",
     "output_type": "stream",
     "text": [
      "List has been written to mybooks.txt\n"
     ]
    }
   ],
   "source": [
    "book_viewer_lib.parse_and_store_books('mybooks', 5)"
   ]
  },
  {
   "cell_type": "code",
   "execution_count": 67,
   "metadata": {},
   "outputs": [],
   "source": [
    "with open('mybooks.txt') as f:\n",
    "    book_titles = f.readlines()\n",
    "book_titles = [x.strip() for x in book_titles]"
   ]
  },
  {
   "cell_type": "code",
   "execution_count": 69,
   "metadata": {},
   "outputs": [],
   "source": [
    "title_embeddings = book_viewer_lib.get_embeddings(book_titles)"
   ]
  },
  {
   "cell_type": "code",
   "execution_count": 70,
   "metadata": {},
   "outputs": [
    {
     "name": "stdout",
     "output_type": "stream",
     "text": [
      "Original book: Attached: The New Science of Adult Attachment and How It Can Help You Find—and Keep—Love\n",
      "=========\n",
      "418 Beloved\n",
      "126 How to Be an Adult in Relationships: The Five Keys to Mindful Loving\n",
      "160 Adult Children of Emotionally Immature Parents: How to Heal from Distant, Rejecting, or Self-Involved Parents\n",
      "193 How Trust Works: The Science of How Relationships Are Built, Broken, and Repaired\n",
      "395 The Body: A Guide for Occupants\n",
      "339 Reinforcement Learning: An Introduction\n",
      "302 Stumbling on Happiness\n",
      "285 Being and Time\n",
      "237 Meditations\n"
     ]
    }
   ],
   "source": [
    "book_viewer_lib.get_closest_books(book_titles, title_embeddings, 0)"
   ]
  }
 ],
 "metadata": {
  "language_info": {
   "name": "python"
  }
 },
 "nbformat": 4,
 "nbformat_minor": 2
}
