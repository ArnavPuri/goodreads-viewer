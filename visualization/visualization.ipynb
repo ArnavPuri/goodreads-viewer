{
 "cells": [
  {
   "cell_type": "code",
   "execution_count": 19,
   "metadata": {},
   "outputs": [],
   "source": [
    "import re\n",
    "\n",
    "def clean_and_replace(name):\n",
    "    # Replace spaces, commas, and other delimiters with hyphens\n",
    "    cleaned_name = re.sub(r'[ ,;]', '-', name)\n",
    "    # Remove leading and trailing hyphens if any\n",
    "    cleaned_name = cleaned_name.strip('-')\n",
    "    return cleaned_name"
   ]
  },
  {
   "cell_type": "code",
   "execution_count": 32,
   "metadata": {},
   "outputs": [
    {
     "name": "stdout",
     "output_type": "stream",
     "text": [
      "D3.js compatible JSON file has been created as 'graph.json'\n"
     ]
    }
   ],
   "source": [
    "import pandas as pd\n",
    "import json\n",
    "from pprint import pprint\n",
    "\n",
    "# Load the edges\n",
    "edges_df = pd.read_csv('../data/edges.csv')\n",
    "\n",
    "# Read the nodes\n",
    "with open('../data/mybooks.txt', 'r', encoding='utf-8') as file:\n",
    "    book_names = file.readlines()\n",
    "# for name in book_names:\n",
    "#     print(name, clean_and_replace(name.strip()))\n",
    "book_names = [clean_and_replace(name.strip()) for name in book_names]\n",
    "nodes_df = pd.DataFrame(book_names, columns=['name'])\n",
    "\n",
    "# Construct nodes list\n",
    "nodes = []\n",
    "for index, row in nodes_df.iterrows():\n",
    "    nodes.append({\n",
    "        'id': index,  # Assuming index can serve as unique ID\n",
    "        'name': row['name']\n",
    "    })\n",
    "\n",
    "# Construct links list\n",
    "links = []\n",
    "for index, row in edges_df.iterrows():\n",
    "    links.append({\n",
    "        'source': int(row['x']),\n",
    "        'target': int(row['y'])\n",
    "    })\n",
    "\n",
    "# Create the final JSON structure\n",
    "graph = {\n",
    "    'nodes': nodes,\n",
    "    'links': links\n",
    "}\n",
    "\n",
    "# pprint(graph)\n",
    "\n",
    "# Write to a JSON file\n",
    "with open('graph.json', 'w') as f:\n",
    "    json.dump(graph, f, indent=4)\n",
    "\n",
    "print(\"D3.js compatible JSON file has been created as 'graph.json'\")"
   ]
  }
 ],
 "metadata": {
  "kernelspec": {
   "display_name": "goodreads-py12",
   "language": "python",
   "name": "python3"
  },
  "language_info": {
   "codemirror_mode": {
    "name": "ipython",
    "version": 3
   },
   "file_extension": ".py",
   "mimetype": "text/x-python",
   "name": "python",
   "nbconvert_exporter": "python",
   "pygments_lexer": "ipython3",
   "version": "3.12.4"
  }
 },
 "nbformat": 4,
 "nbformat_minor": 2
}
